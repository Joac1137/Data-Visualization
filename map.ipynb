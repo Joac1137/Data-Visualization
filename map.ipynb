{
 "cells": [
  {
   "cell_type": "code",
   "execution_count": 1,
   "metadata": {},
   "outputs": [
    {
     "data": {
      "text/html": [
       "\n",
       "<style>\n",
       "form.vega-bindings {\n",
       "  position: absolute;\n",
       "  left: 0px;\n",
       "  top: 0px;\n",
       "}\n",
       "</style>\n"
      ],
      "text/plain": [
       "<IPython.core.display.HTML object>"
      ]
     },
     "metadata": {},
     "output_type": "execute_result"
    }
   ],
   "source": [
    "from IPython.display import display, HTML\n",
    "\n",
    "display(HTML(\"\"\"\n",
    "<style>\n",
    "form.vega-bindings {\n",
    "  position: absolute;\n",
    "  left: 0px;\n",
    "  top: 0px;\n",
    "}\n",
    "</style>\n",
    "\"\"\"))"
   ]
  },
  {
   "cell_type": "code",
   "execution_count": 2,
   "metadata": {},
   "outputs": [],
   "source": [
    "import altair as alt\n",
    "import pandas as pd\n",
    "import geopandas as gpd\n",
    "\n",
    "alt.themes.enable(\"latimes\")\n",
    "\n",
    "height = 200\n",
    "width = 200\n",
    "spacing = 60\n",
    "\n",
    "alt.data_transformers.enable('data_server')\n",
    "#file = \"umbrella_terms_crimes_quarters\"\n",
    "file = \"umbrella_terms_crimes_pop\"\n",
    "#file = \"small_umbrella_terms_crimes\"\n",
    "path = \"data/\" + file +\".csv\"\n",
    "df = pd.read_csv(path,encoding=\"utf_8\",index_col='Unnamed: 0')\n",
    "df['population_scaled'] = df['population'].div(100000)\n",
    "df['forbrydelser_pr_100k_indbygger'] = df['Anmeldte forbrydelser']/df['population_scaled']\n",
    "df['tid'] = df['tid'].str.replace('K','-Q')\n",
    "df['tid'] = pd.to_datetime(df['tid'])\n",
    "geometry = gpd.read_file(\"geodata/geometry.geojson\")"
   ]
  },
  {
   "cell_type": "code",
   "execution_count": 3,
   "metadata": {},
   "outputs": [],
   "source": [
    "offence_selection = alt.selection_single(init={'offence':'Seksualforbrydelser i alt'})\n",
    "time_selection = alt.selection_interval(encodings=['x'])\n",
    "area_selection = alt.selection_multi(fields=['label_dk'], empty=\"all\")"
   ]
  },
  {
   "cell_type": "code",
   "execution_count": 4,
   "metadata": {},
   "outputs": [],
   "source": [
    "bars = alt.Chart().mark_bar(\n",
    ").transform_filter(\n",
    "    time_selection\n",
    ").transform_filter(\n",
    "    area_selection\n",
    ").transform_aggregate(\n",
    "    crime='sum(Anmeldte forbrydelser)',\n",
    "    groupby=['offence']\n",
    ").encode(\n",
    "    x=alt.X('offence:N', sort='y',axis=alt.Axis(labelAngle=-20,title=None)),\n",
    "    y=alt.Y(\n",
    "        'crime:Q',\n",
    "    ),\n",
    "    color=alt.condition(\n",
    "        offence_selection, alt.value('blue'), alt.value('lightgray')\n",
    "    ),\n",
    "    tooltip=['offence','crime:Q']\n",
    ")\n",
    "\n",
    "text = bars.mark_text(\n",
    "    align='center',\n",
    "    baseline='middle',\n",
    "    dy=-10  # Nudges text to right so it doesn't appear on top of the bar\n",
    ").encode(\n",
    "    text='crime:Q'\n",
    ")\n",
    "bar_chart = (bars + text).add_selection(offence_selection).properties(width=200,height=400)"
   ]
  },
  {
   "cell_type": "code",
   "execution_count": 21,
   "metadata": {},
   "outputs": [],
   "source": [
    "area_chart = alt.Chart().mark_area(interpolate='step-after'\n",
    "                                   ).transform_filter(\n",
    "    offence_selection\n",
    ").transform_filter(\n",
    "    area_selection\n",
    ").encode(\n",
    "    x=alt.X('tid:T',axis=alt.Axis(labelAngle=-30,grid=False)),\n",
    "    y=alt.Y('Anmeldte forbrydelser:Q',scale=alt.Scale(zero=False)),\n",
    "    color=alt.Color('label_dk', legend=None),\n",
    "    tooltip=['label_dk','Anmeldte forbrydelser:Q']\n",
    ").properties(width=900, height=200)\n",
    "\n",
    "\n",
    "overlay_line_chart = alt.Chart().mark_line(interpolate='step-after',point=alt.OverlayMarkDef(color=\"blue\")\n",
    "                                           ).transform_filter(\n",
    "    offence_selection\n",
    ").transform_filter(\n",
    "    area_selection\n",
    ").transform_aggregate(\n",
    "    crime='sum(Anmeldte forbrydelser)',\n",
    "    groupby=['tid']\n",
    ").encode(\n",
    "    x=alt.X('tid:T',axis=alt.Axis(labelAngle=-30,grid=False)),\n",
    "    y=alt.Y('crime:Q',scale=alt.Scale(zero=False)),\n",
    "    #color='label_dk',\n",
    "    tooltip=['tid','crime:Q']\n",
    ").add_selection(time_selection).properties(width=900, height=200)\n",
    "\n",
    "line_chart = area_chart + overlay_line_chart\n",
    "\n",
    "\n",
    "#.transform_aggregate(\n",
    "#crime='sum(Anmeldte forbrydelser)',\n",
    "#    groupby=['tid']\n",
    "#)"
   ]
  },
  {
   "cell_type": "code",
   "execution_count": 8,
   "metadata": {},
   "outputs": [
    {
     "name": "stderr",
     "output_type": "stream",
     "text": [
      "c:\\users\\asger\\desktop\\uni\\7. semester\\data viz\\crime_viz\\.venv\\lib\\site-packages\\altair\\utils\\core.py:317: FutureWarning: iteritems is deprecated and will be removed in a future version. Use .items instead.\n",
      "  for col_name, dtype in df.dtypes.iteritems():\n",
      "c:\\users\\asger\\desktop\\uni\\7. semester\\data viz\\crime_viz\\.venv\\lib\\site-packages\\altair\\utils\\core.py:317: FutureWarning: iteritems is deprecated and will be removed in a future version. Use .items instead.\n",
      "  for col_name, dtype in df.dtypes.iteritems():\n"
     ]
    }
   ],
   "source": [
    "column_select = alt.selection_single(fields=['scale'],\n",
    "                                     bind=alt.binding_select(options=['municipal_crime_pr_100k_inhabitants', 'municipal_crime_total'], name='scale'),\n",
    "                                     init={'scale': 'municipal_crime_pr_100k_inhabitants'})\n",
    "\n",
    "\n",
    "map_chart = alt.Chart().transform_lookup(\n",
    "    lookup='label_dk',\n",
    "    from_=alt.LookupData(geometry, 'label_dk'),\n",
    "    as_=\"geo\"\n",
    ").mark_geoshape(\n",
    ").transform_filter(\n",
    "    offence_selection\n",
    ").transform_filter(\n",
    "    time_selection\n",
    ").transform_aggregate(\n",
    "    municipal_crime_total = 'sum(Anmeldte forbrydelser)',\n",
    "    municipal_crime_pr_100k_inhabitants='sum(forbrydelser_pr_100k_indbygger)',\n",
    "    municipal_avg_population = 'mean(population)',\n",
    "    groupby=[\"geo\",\"label_dk\"]\n",
    ").transform_fold(\n",
    "    fold=['municipal_crime_pr_100k_inhabitants', 'municipal_crime_total'],\n",
    "    as_=['scale', 'value']\n",
    ").transform_filter(\n",
    "    column_select\n",
    ").encode(\n",
    "    shape=\"geo:G\",\n",
    "    #strokeWidth=alt.StrokeWidthValue(0, condition=alt.StrokeWidthValue(3, selection=area_selection.name)),\n",
    "    color= alt.condition(area_selection,alt.Color(\n",
    "        \"value:Q\",\n",
    "        scale=alt.Scale(\n",
    "            scheme='viridis')\n",
    "    ),alt.value('lightgray')),\n",
    "    tooltip=['label_dk','municipal_crime_pr_100k_inhabitants:Q','municipal_crime_total:Q','municipal_avg_population:Q']\n",
    ").add_selection(area_selection).add_selection(\n",
    "    column_select\n",
    ").properties(height=500)\n"
   ]
  },
  {
   "cell_type": "code",
   "execution_count": 22,
   "metadata": {
    "scrolled": false
   },
   "outputs": [
    {
     "name": "stderr",
     "output_type": "stream",
     "text": [
      "c:\\users\\asger\\desktop\\uni\\7. semester\\data viz\\crime_viz\\.venv\\lib\\site-packages\\altair\\utils\\core.py:317: FutureWarning: iteritems is deprecated and will be removed in a future version. Use .items instead.\n",
      "  for col_name, dtype in df.dtypes.iteritems():\n",
      "c:\\users\\asger\\desktop\\uni\\7. semester\\data viz\\crime_viz\\.venv\\lib\\site-packages\\altair\\utils\\core.py:317: FutureWarning: iteritems is deprecated and will be removed in a future version. Use .items instead.\n",
      "  for col_name, dtype in df.dtypes.iteritems():\n"
     ]
    },
    {
     "data": {
      "text/html": [
       "\n",
       "<div id=\"altair-viz-ba7e99372d094b82b1facf662e7142e6\"></div>\n",
       "<script type=\"text/javascript\">\n",
       "  var VEGA_DEBUG = (typeof VEGA_DEBUG == \"undefined\") ? {} : VEGA_DEBUG;\n",
       "  (function(spec, embedOpt){\n",
       "    let outputDiv = document.currentScript.previousElementSibling;\n",
       "    if (outputDiv.id !== \"altair-viz-ba7e99372d094b82b1facf662e7142e6\") {\n",
       "      outputDiv = document.getElementById(\"altair-viz-ba7e99372d094b82b1facf662e7142e6\");\n",
       "    }\n",
       "    const paths = {\n",
       "      \"vega\": \"https://cdn.jsdelivr.net/npm//vega@5?noext\",\n",
       "      \"vega-lib\": \"https://cdn.jsdelivr.net/npm//vega-lib?noext\",\n",
       "      \"vega-lite\": \"https://cdn.jsdelivr.net/npm//vega-lite@4.17.0?noext\",\n",
       "      \"vega-embed\": \"https://cdn.jsdelivr.net/npm//vega-embed@6?noext\",\n",
       "    };\n",
       "\n",
       "    function maybeLoadScript(lib, version) {\n",
       "      var key = `${lib.replace(\"-\", \"\")}_version`;\n",
       "      return (VEGA_DEBUG[key] == version) ?\n",
       "        Promise.resolve(paths[lib]) :\n",
       "        new Promise(function(resolve, reject) {\n",
       "          var s = document.createElement('script');\n",
       "          document.getElementsByTagName(\"head\")[0].appendChild(s);\n",
       "          s.async = true;\n",
       "          s.onload = () => {\n",
       "            VEGA_DEBUG[key] = version;\n",
       "            return resolve(paths[lib]);\n",
       "          };\n",
       "          s.onerror = () => reject(`Error loading script: ${paths[lib]}`);\n",
       "          s.src = paths[lib];\n",
       "        });\n",
       "    }\n",
       "\n",
       "    function showError(err) {\n",
       "      outputDiv.innerHTML = `<div class=\"error\" style=\"color:red;\">${err}</div>`;\n",
       "      throw err;\n",
       "    }\n",
       "\n",
       "    function displayChart(vegaEmbed) {\n",
       "      vegaEmbed(outputDiv, spec, embedOpt)\n",
       "        .catch(err => showError(`Javascript Error: ${err.message}<br>This usually means there's a typo in your chart specification. See the javascript console for the full traceback.`));\n",
       "    }\n",
       "\n",
       "    if(typeof define === \"function\" && define.amd) {\n",
       "      requirejs.config({paths});\n",
       "      require([\"vega-embed\"], displayChart, err => showError(`Error loading script: ${err.message}`));\n",
       "    } else {\n",
       "      maybeLoadScript(\"vega\", \"5\")\n",
       "        .then(() => maybeLoadScript(\"vega-lite\", \"4.17.0\"))\n",
       "        .then(() => maybeLoadScript(\"vega-embed\", \"6\"))\n",
       "        .catch(showError)\n",
       "        .then(() => displayChart(vegaEmbed));\n",
       "    }\n",
       "  })({\"usermeta\": {\"embedOptions\": {\"theme\": \"latimes\"}}, \"config\": {\"view\": {\"continuousWidth\": 400, \"continuousHeight\": 300}}, \"vconcat\": [{\"hconcat\": [{\"mark\": \"geoshape\", \"encoding\": {\"color\": {\"condition\": {\"field\": \"value\", \"scale\": {\"scheme\": \"viridis\"}, \"type\": \"quantitative\", \"selection\": \"selector003\"}, \"value\": \"lightgray\"}, \"shape\": {\"field\": \"geo\", \"type\": \"geojson\"}, \"tooltip\": [{\"field\": \"label_dk\", \"type\": \"nominal\"}, {\"field\": \"municipal_crime_pr_100k_inhabitants\", \"type\": \"quantitative\"}, {\"field\": \"municipal_crime_total\", \"type\": \"quantitative\"}, {\"field\": \"municipal_avg_population\", \"type\": \"quantitative\"}]}, \"height\": 500, \"selection\": {\"selector003\": {\"type\": \"multi\", \"fields\": [\"label_dk\"], \"empty\": \"all\"}, \"selector005\": {\"type\": \"single\", \"fields\": [\"scale\"], \"bind\": {\"input\": \"select\", \"options\": [\"municipal_crime_pr_100k_inhabitants\", \"municipal_crime_total\"], \"name\": \"scale\"}, \"init\": {\"scale\": \"municipal_crime_pr_100k_inhabitants\"}}}, \"transform\": [{\"lookup\": \"label_dk\", \"as\": \"geo\", \"from\": {\"data\": {\"url\": \"http://localhost:52757/7cd343c65061375e8927aa97d89fd38d.json\"}, \"key\": \"label_dk\"}}, {\"filter\": {\"selection\": \"selector001\"}}, {\"filter\": {\"selection\": \"selector002\"}}, {\"aggregate\": [{\"op\": \"sum\", \"field\": \"Anmeldte forbrydelser\", \"as\": \"municipal_crime_total\"}, {\"op\": \"sum\", \"field\": \"forbrydelser_pr_100k_indbygger\", \"as\": \"municipal_crime_pr_100k_inhabitants\"}, {\"op\": \"mean\", \"field\": \"population\", \"as\": \"municipal_avg_population\"}], \"groupby\": [\"geo\", \"label_dk\"]}, {\"fold\": [\"municipal_crime_pr_100k_inhabitants\", \"municipal_crime_total\"], \"as\": [\"scale\", \"value\"]}, {\"filter\": {\"selection\": \"selector005\"}}]}, {\"layer\": [{\"mark\": \"bar\", \"encoding\": {\"color\": {\"condition\": {\"value\": \"blue\", \"selection\": \"selector001\"}, \"value\": \"lightgray\"}, \"tooltip\": [{\"field\": \"offence\", \"type\": \"nominal\"}, {\"field\": \"crime\", \"type\": \"quantitative\"}], \"x\": {\"axis\": {\"labelAngle\": -20, \"title\": null}, \"field\": \"offence\", \"sort\": \"y\", \"type\": \"nominal\"}, \"y\": {\"field\": \"crime\", \"type\": \"quantitative\"}}, \"selection\": {\"selector001\": {\"type\": \"single\", \"init\": {\"offence\": \"Seksualforbrydelser i alt\"}}}, \"transform\": [{\"filter\": {\"selection\": \"selector002\"}}, {\"filter\": {\"selection\": \"selector003\"}}, {\"aggregate\": [{\"op\": \"sum\", \"field\": \"Anmeldte forbrydelser\", \"as\": \"crime\"}], \"groupby\": [\"offence\"]}]}, {\"mark\": {\"type\": \"text\", \"align\": \"center\", \"baseline\": \"middle\", \"dy\": -10}, \"encoding\": {\"color\": {\"condition\": {\"value\": \"blue\", \"selection\": \"selector001\"}, \"value\": \"lightgray\"}, \"text\": {\"field\": \"crime\", \"type\": \"quantitative\"}, \"tooltip\": [{\"field\": \"offence\", \"type\": \"nominal\"}, {\"field\": \"crime\", \"type\": \"quantitative\"}], \"x\": {\"axis\": {\"labelAngle\": -20, \"title\": null}, \"field\": \"offence\", \"sort\": \"y\", \"type\": \"nominal\"}, \"y\": {\"field\": \"crime\", \"type\": \"quantitative\"}}, \"transform\": [{\"filter\": {\"selection\": \"selector002\"}}, {\"filter\": {\"selection\": \"selector003\"}}, {\"aggregate\": [{\"op\": \"sum\", \"field\": \"Anmeldte forbrydelser\", \"as\": \"crime\"}], \"groupby\": [\"offence\"]}]}], \"height\": 400, \"width\": 200}], \"resolve\": {\"scale\": {\"color\": \"independent\"}}, \"spacing\": 60}, {\"mark\": {\"type\": \"area\", \"interpolate\": \"step-after\"}, \"encoding\": {\"color\": {\"field\": \"label_dk\", \"type\": \"nominal\"}, \"tooltip\": [{\"field\": \"tid\", \"type\": \"temporal\"}, {\"field\": \"crime\", \"type\": \"quantitative\"}, {\"field\": \"label_dk\", \"type\": \"nominal\"}], \"x\": {\"axis\": {\"grid\": false, \"labelAngle\": -30}, \"field\": \"tid\", \"type\": \"temporal\"}, \"y\": {\"field\": \"Anmeldte forbrydelser\", \"scale\": {\"zero\": false}, \"type\": \"quantitative\"}}, \"height\": 200, \"selection\": {\"selector002\": {\"type\": \"interval\", \"encodings\": [\"x\"]}}, \"transform\": [{\"filter\": {\"selection\": \"selector001\"}}, {\"filter\": {\"selection\": \"selector003\"}}], \"width\": 900}], \"data\": {\"url\": \"http://localhost:52757/a292e3b85041ac182b1e2dc5fd44c890.json\"}, \"$schema\": \"https://vega.github.io/schema/vega-lite/v4.17.0.json\"}, {\"mode\": \"vega-lite\"});\n",
       "</script>"
      ],
      "text/plain": [
       "alt.VConcatChart(...)"
      ]
     },
     "metadata": {},
     "output_type": "execute_result"
    }
   ],
   "source": [
    "\n",
    "row_chart = alt.hconcat(map_chart,bar_chart, spacing=spacing, data=df).resolve_scale(color='independent')\n",
    "\n",
    "chart = alt.vconcat(row_chart,line_chart, data=df)\n",
    "\n",
    "display(chart)"
   ]
  },
  {
   "cell_type": "code",
   "execution_count": null,
   "metadata": {},
   "outputs": [],
   "source": []
  }
 ],
 "metadata": {
  "kernelspec": {
   "display_name": "Python 3 (ipykernel)",
   "language": "python",
   "name": "python3"
  },
  "language_info": {
   "codemirror_mode": {
    "name": "ipython",
    "version": 3
   },
   "file_extension": ".py",
   "mimetype": "text/x-python",
   "name": "python",
   "nbconvert_exporter": "python",
   "pygments_lexer": "ipython3",
   "version": "3.8.5"
  }
 },
 "nbformat": 4,
 "nbformat_minor": 1
}
